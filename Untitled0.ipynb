{
  "nbformat": 4,
  "nbformat_minor": 0,
  "metadata": {
    "colab": {
      "provenance": [],
      "authorship_tag": "ABX9TyMJlEr0cWdL2fjtXh7xTMiK",
      "include_colab_link": true
    },
    "kernelspec": {
      "name": "python3",
      "display_name": "Python 3"
    },
    "language_info": {
      "name": "python"
    }
  },
  "cells": [
    {
      "cell_type": "markdown",
      "metadata": {
        "id": "view-in-github",
        "colab_type": "text"
      },
      "source": [
        "<a href=\"https://colab.research.google.com/github/LynRJ/Class97/blob/main/Untitled0.ipynb\" target=\"_parent\"><img src=\"https://colab.research.google.com/assets/colab-badge.svg\" alt=\"Open In Colab\"/></a>"
      ]
    },
    {
      "cell_type": "code",
      "execution_count": 1,
      "metadata": {
        "colab": {
          "base_uri": "https://localhost:8080/"
        },
        "id": "rlitB66u8ASz",
        "outputId": "cc7869f6-8c86-46eb-ede5-869781a1dbb1"
      },
      "outputs": [
        {
          "output_type": "stream",
          "name": "stdout",
          "text": [
            "Hello World\n"
          ]
        }
      ],
      "source": [
        "print(\"Hello World\")"
      ]
    },
    {
      "cell_type": "code",
      "source": [
        "num=12\n",
        "string=\"hello\""
      ],
      "metadata": {
        "id": "3YQn2kkS8S08"
      },
      "execution_count": 3,
      "outputs": []
    },
    {
      "cell_type": "code",
      "source": [
        "type(string)"
      ],
      "metadata": {
        "colab": {
          "base_uri": "https://localhost:8080/"
        },
        "id": "OObGVU3F8ZGG",
        "outputId": "735b7b52-7917-4a1c-c102-569c5b305e65"
      },
      "execution_count": 5,
      "outputs": [
        {
          "output_type": "execute_result",
          "data": {
            "text/plain": [
              "str"
            ]
          },
          "metadata": {},
          "execution_count": 5
        }
      ]
    },
    {
      "cell_type": "code",
      "source": [
        "def celtof(a):\n",
        "  f=(a*(9/5))+32\n",
        "  return(f)\n",
        "celtof(43)"
      ],
      "metadata": {
        "colab": {
          "base_uri": "https://localhost:8080/"
        },
        "id": "J0qfghXO8uAh",
        "outputId": "48a017ed-4a46-409d-dede-89a60337cab1"
      },
      "execution_count": 9,
      "outputs": [
        {
          "output_type": "execute_result",
          "data": {
            "text/plain": [
              "109.4"
            ]
          },
          "metadata": {},
          "execution_count": 9
        }
      ]
    },
    {
      "cell_type": "code",
      "source": [
        "def add(x,y):\n",
        "  return(x+y)\n",
        "\n",
        "\n",
        "def subtract(x,y):\n",
        "  return(x-y)\n"
      ],
      "metadata": {
        "colab": {
          "base_uri": "https://localhost:8080/"
        },
        "id": "OoIeedvJ9hWR",
        "outputId": "22605ac0-bfb4-43f0-b731-04d13c234689"
      },
      "execution_count": 13,
      "outputs": [
        {
          "output_type": "execute_result",
          "data": {
            "text/plain": [
              "-11"
            ]
          },
          "metadata": {},
          "execution_count": 13
        }
      ]
    },
    {
      "cell_type": "code",
      "source": [
        "print(\"Choose operations from below\")\n",
        "print(\"1.add\")\n",
        "print(\"2.subtract\")\n",
        "option=input(\"Enter your option\")\n",
        "def calculate(option):\n",
        "  if(option==\"1\" or option==\"2\"):\n",
        "    num1=float(input(\"Enter first number: \"))\n",
        "    num2=float(input(\"Enter second number: \"))\n",
        "    if(option == \"1\"):\n",
        "      print(add(num1,num2))\n",
        "    elif option==\"2\":\n",
        "      print(subtract(num1, num2))\n",
        "  else:\n",
        "    print(\"Invalid Input\")\n",
        "calculate(option)"
      ],
      "metadata": {
        "colab": {
          "base_uri": "https://localhost:8080/"
        },
        "id": "Gg0yIBDR-jqr",
        "outputId": "b3191c46-4651-4425-e503-47ba92f1f33f"
      },
      "execution_count": 15,
      "outputs": [
        {
          "output_type": "stream",
          "name": "stdout",
          "text": [
            "Choose operations from below\n",
            "1.add\n",
            "2.subtract\n",
            "Enter your option2\n",
            "Enter first number: 34\n",
            "Enter second number: 23\n",
            "11.0\n"
          ]
        }
      ]
    }
  ]
}